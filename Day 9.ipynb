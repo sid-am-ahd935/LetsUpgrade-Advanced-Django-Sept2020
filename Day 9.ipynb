{
 "cells": [
  {
   "cell_type": "code",
   "execution_count": 1,
   "id": "5bbaa39f",
   "metadata": {},
   "outputs": [
    {
     "name": "stdout",
     "output_type": "stream",
     "text": [
      "Enter To Continue and Enter Any Key To Exit: \n",
      "Password:  t!X6v3P01V%E \n",
      "\n",
      "Enter To Continue and Enter Any Key To Exit: \n",
      "Password:  X@1t!sn9Q8e0 \n",
      "\n",
      "Enter To Continue and Enter Any Key To Exit: \n",
      "Password:  4K%kq6g!X18l \n",
      "\n",
      "Enter To Continue and Enter Any Key To Exit: \n",
      "Password:  0zZ3t4%6FIQ@ \n",
      "\n",
      "Enter To Continue and Enter Any Key To Exit: \n",
      "Password:  73zkAt6?E@l4 \n",
      "\n",
      "Enter To Continue and Enter Any Key To Exit: \n",
      "Password:  v$a6Lm8iG0!7 \n",
      "\n",
      "Enter To Continue and Enter Any Key To Exit: \n",
      "Password:  ?!52e9qVhBs1 \n",
      "\n",
      "Enter To Continue and Enter Any Key To Exit: a\n",
      "/Exit/\n"
     ]
    }
   ],
   "source": [
    "from random import sample as ch, shuffle as mix\n",
    "\n",
    "#All Alphabets Into A List\n",
    "chars = [chr (i) for i in range(97,123)] + [chr (i) for i in range(65,91)]\n",
    "#All Numbers Inti A List\n",
    "nums = ['1','2','3','4','5','6','7','8','9','0']\n",
    "#All Symbols Inti A List\n",
    "symbols = [\"#\", \"@\", \"$\", \"%\", \"!\", \"?\"]\n",
    "\n",
    "#Infinite Loop Which User Can Break At Will\n",
    "while True:\n",
    "\tloop = input(\"Enter To Continue and Enter Any Key To Exit: \")\n",
    "\tif loop != \"\": break\n",
    "\t\n",
    "\t#Password Contains 6 Characters\n",
    "\tpassword =  ch(chars, k=6)\n",
    "\t#Password Contains 4 Numbers\n",
    "\tpassword += ch(nums, k=4)\n",
    "\t#Password Contains 2 Symbols\n",
    "\tpassword += ch(symbols, k=2)\n",
    "\t#Password Is Given A Good Shuffle\n",
    "\tmix(password)\n",
    "\t#Password Converted Into A String From List\n",
    "\tpassword = \"\".join(password)\n",
    "\t#Printing Password\n",
    "\tprint(\"Password: \",password,\"\\n\")\n",
    "\t#print(symbols)\n",
    "\t\n",
    "print(\"/Exit/\")"
   ]
  }
 ],
 "metadata": {
  "kernelspec": {
   "display_name": "Python 3 (ipykernel)",
   "language": "python",
   "name": "python3"
  },
  "language_info": {
   "codemirror_mode": {
    "name": "ipython",
    "version": 3
   },
   "file_extension": ".py",
   "mimetype": "text/x-python",
   "name": "python",
   "nbconvert_exporter": "python",
   "pygments_lexer": "ipython3",
   "version": "3.8.3"
  }
 },
 "nbformat": 4,
 "nbformat_minor": 5
}
