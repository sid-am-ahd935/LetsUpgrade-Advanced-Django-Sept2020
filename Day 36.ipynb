{
 "cells": [
  {
   "cell_type": "code",
   "execution_count": 1,
   "id": "d9ec8045",
   "metadata": {},
   "outputs": [
    {
     "data": {
      "text/html": [
       "<p>To check the above program's output, click on <a href=\"https://first-app-aman.herokuapp.com/github\" target=\"_blank\" rel=\"noopener noreferrer\">GitHub Authenticator Assignment On Heroku</a>.</p>\n"
      ],
      "text/plain": [
       "<IPython.core.display.HTML object>"
      ]
     },
     "metadata": {},
     "output_type": "display_data"
    }
   ],
   "source": [
    "from flask import Flask, render_template, request, redirect, url_for\n",
    "from flask_dance.contrib.github import make_github_blueprint, github\n",
    "\n",
    "import os;\n",
    "#Use Before Starting The POST request\n",
    "#export OAUTHLIB_INSECURE_TRANSPORT=1\n",
    "#When doing from The Terminal Itself.\n",
    "os.environ[\"OAUTHLIB_INSECURE_TRANSPORT\"]= '1'\n",
    "\n",
    "if __name__ == \"__main__\":\n",
    "    app = Flask(__name__)\n",
    "    app.config['SECRET_KEY'] = \"why is secret key even a thing\"\n",
    "else:\n",
    "    from model import app\n",
    "     \n",
    "github_blueprint = make_github_blueprint(client_id= '4e3dcb3a3ab315603b54', client_secret= '42f934578b962fff88db8d4cca21701496c40c51')\n",
    "\n",
    "app.register_blueprint(github_blueprint,url_prefix='/github/login')\n",
    "\n",
    "@app.route('/github')\n",
    "def github_login():\n",
    "    \n",
    "    if  not github.authorized:\n",
    "        return redirect(url_for('github.login'))\n",
    "    account_info = github.get('/user')\n",
    "    \n",
    "    if account_info.ok:\n",
    "        account_info_json = account_info.json()\n",
    "        return f\"<h1>Your GitHub Name: {account_info_json['login']} Is Logged In.</h1>\"\n",
    "        \n",
    "    return \"<h1> Request </h1>\"\n",
    "\n",
    "if __name__ == \"__main__\":\n",
    "    app.run(port=9080)\n",
    "    #'debug= True' Does Not Work In Jupyter\n"
   ]
  },
  {
   "cell_type": "code",
   "execution_count": 2,
   "id": "54617d88",
   "metadata": {},
   "outputs": [
    {
     "data": {
      "text/html": [
       "<p>To check the above program's output, click on <a href=\"https://first-app-aman.herokuapp.com/upload\" target=\"_blank\" rel=\"noopener noreferrer\">File Upload Assignment On Heroku</a>.</p>\n"
      ],
      "text/plain": [
       "<IPython.core.display.HTML object>"
      ]
     },
     "metadata": {},
     "output_type": "display_data"
    }
   ],
   "source": [
    "from flask import Flask, render_template, request, redirect, url_for\n",
    "from werkzeug.utils import secure_filename\n",
    "import os\n",
    "\n",
    "if __name__ == \"__main__\":\n",
    "    app = Flask(__name__)\n",
    "    app.config['SECRET_KEY']= \"random string to save myself from 'Secret Key' not found errors\"\n",
    "else:\n",
    "    from model import app\n",
    "    \n",
    "@app.route('/upload')#,methods=['GET','POST'])\n",
    "def upload_file():\n",
    "    return render_template(\"upload.html\")\n",
    "\n",
    "@app.route('/uploader',methods=['GET','POST'])\n",
    "def upload_file1():\n",
    "    if request.method == 'POST':\n",
    "        f = request.files['file']\n",
    "        #f.save(secure_filename(f.filename))\n",
    "        #Does Not Work On Heroku, Stuck At Loading\n",
    "        #import pdb;pdb.set_trace()\n",
    "        dir1 = os.getcwd()+'/static/'\n",
    "        if not os.path.exists(dir1):\n",
    "            os.mkdir(dir1)\n",
    "        len_dir = str(len(os.listdir(dir1)))\n",
    "        \n",
    "        name = dir1 + len_dir +f.filename\n",
    "        #if '.tiff' not in name and '.gif' not in name and '.jpeg' not in name and '.jpg' not in name and '.png' not in name:\n",
    "        #   name = name + '.jpg'\n",
    "        if '.tiff' in name or '.gif' in name or '.jpeg' in name or '.jpg' in name or '.png' in name:\n",
    "            pass\n",
    "        else:\n",
    "            name = name + '.jpg'\n",
    "        \n",
    "        try:\n",
    "            with open(name,'wb') as file:\n",
    "                #file.write(f.stream.read())\n",
    "                file.write(f.read())\n",
    "            ans = f\"<h1>File '{f.filename}' Uploaded Successfully.</h1>\\n<h3>Saved In The {dir1} Folder.</h3>\"\n",
    "        except Exception as e:\n",
    "            ans = f\"<h3>{e} Occurred While Creating {name}</h3>\"\n",
    "        return ans\n",
    "\t\n",
    "\n",
    "if __name__ == \"__main__\":\n",
    "    #import pdb;pdb.set_trace()\n",
    "    app.run(port= 9090, debug=True)"
   ]
  }
 ],
 "metadata": {
  "kernelspec": {
   "display_name": "Python 3 (ipykernel)",
   "language": "python",
   "name": "python3"
  },
  "language_info": {
   "codemirror_mode": {
    "name": "ipython",
    "version": 3
   },
   "file_extension": ".py",
   "mimetype": "text/x-python",
   "name": "python",
   "nbconvert_exporter": "python",
   "pygments_lexer": "ipython3",
   "version": "3.9.7"
  }
 },
 "nbformat": 4,
 "nbformat_minor": 5
}
