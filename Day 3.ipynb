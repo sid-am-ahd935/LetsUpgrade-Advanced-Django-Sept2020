{
 "cells": [
  {
   "cell_type": "code",
   "execution_count": 1,
   "id": "1517fac4",
   "metadata": {},
   "outputs": [
    {
     "name": "stdout",
     "output_type": "stream",
     "text": [
      "All indexes for '1':\n",
      "\n",
      "0\n",
      "4\n",
      "5\n",
      "23\n",
      "24\n",
      "28\n",
      "29\n",
      "36\n",
      "37\n",
      "41\n",
      "46\n",
      "47\n",
      "54\n",
      "55\n",
      "66\n",
      "67\n"
     ]
    }
   ],
   "source": [
    "#Program to return all indexes of all occurences of an element in a list\n",
    "\n",
    "#input_str = input(\"Enter Elements For List With Commas To Separate Them:\\n\")\n",
    "input_str = \"1,2,3,5,1,1,4,4,2,5,6,6,5,4,21,3,5,7,9,7,6,5,3,1,1,3,4,2,1,1,2,3,4,5,4,2,1,1,2,4,4,1,2,3,4,2,1,1,3,4,4,5,5,2,1,1,4,5,6,6,5,7,8,8,4,2,1,1,4,5,5,6,6,0\"\n",
    "l= input_str.split(\",\")\n",
    "list1 = [int (i) for i in l]\n",
    "\n",
    "shift = 0\n",
    "#A Variable Which Only Allows The index() To Start At An Index After Element's Previous Occurence \n",
    "\n",
    "#target = int (input(\"\\nEnter The Element To Be Found: \"))\n",
    "target = 1\n",
    "\n",
    "print(f\"All indexes for '{target}':\\n\")\n",
    "for i in range(list1.count(target)):\n",
    "\tif target in list1[shift:]:\n",
    "\t\tans = list1.index(target,shift)\n",
    "\t\tprint(ans)\n",
    "\t\tshift = ans +1"
   ]
  },
  {
   "cell_type": "code",
   "execution_count": 2,
   "id": "e0cee662",
   "metadata": {},
   "outputs": [
    {
     "name": "stdout",
     "output_type": "stream",
     "text": [
      "('7', '15')\n",
      "('19', '21')\n",
      "('19', '45')\n",
      "('23', '41')\n",
      "('22', '45')\n",
      "('50', '20')\n",
      "('0', '100')\n"
     ]
    }
   ],
   "source": [
    "#Program to sort the list in ascending order according to the sum contained in individual tuple elements\n",
    "\n",
    "#input_str = input(\"Enter The Tuples With Each Tuple Elements Separated By Spaces And Each Tuple Separated By A ',': \\n\")\n",
    "input_str = \"0 100, 7 15, 22 45, 19 45, 50 20, 19 21, 23 41\"\n",
    "\n",
    "tups = input_str.split(\",\")\n",
    "list_of_tups = [tuple(i.split()) for i in tups]\n",
    "\n",
    "def tuplesum(sublist):\n",
    "\tsum = 0\n",
    "\tfor i in sublist:\n",
    "\t\tsum += int (i)\n",
    "\t#Sums All Items From Tuple If More Than Two\n",
    "\t#Also, Can Be Unpacked If Only Pairs Using\n",
    "\t#a,b = sublist\n",
    "\t#sum = a+b\n",
    "\treturn sum\n",
    "\n",
    "list_of_tups.sort(key = tuplesum)\n",
    "for each in list_of_tups:\n",
    "    print(each)"
   ]
  },
  {
   "cell_type": "code",
   "execution_count": 3,
   "id": "62d4c759",
   "metadata": {},
   "outputs": [
    {
     "name": "stdout",
     "output_type": "stream",
     "text": [
      "[1, 1, 1, 2, 2, 3, 3, 4, 4, 4, 4, 4, 4, 6, 6, 6, 6, 6, 6, 6, 6, 7, 7, 7, 7, 7, 8, 8, 8, 8, 8, 9, 9, 9, 9, 9, 0, 0, 0, 0, 0, 0, 0, 0, 0]\n"
     ]
    }
   ],
   "source": [
    "#Program to remove all 0s from left and add it to right in a sorted list\n",
    "\n",
    "#input_str = input(\"Enter The Numbers Separated By Commas:\\n\")\n",
    "input_str = \"1,2,4,6,8,0,7,4,2,3,6,7,0,9,7,9,7,0,0,0,8,6,6,6,8,9,0,6,4,3,1,1,4,6,8,9,0,0,8,6,4,4,7,9,0\"\n",
    "l = input_str.split(\",\")\n",
    "list1 = [int (i) for i in l]\n",
    "\n",
    "list1.sort()\n",
    "\n",
    "##Alternative Method (Inefficient)\n",
    "#for i in range(len(list1)):\n",
    "\t#if list1[i] == 0:\n",
    "\t#\tlist1.remove(0) #removes from left\n",
    "\t#\tlist1.append(0) #adds to right\n",
    "\n",
    "#Efficient Method\n",
    "#for i in range(list1.count(0)):\n",
    "#\tlist1.remove(0) #removes from left\n",
    "#\tlist1.append(0) #adds to right\n",
    "\n",
    "#More Efficient Method\n",
    "c0 = list1.count(0)\n",
    "for i in range(c0): list1.remove(0)\n",
    "list1 = list1 + ([0] * c0)\n",
    "\n",
    "print(list1)"
   ]
  },
  {
   "cell_type": "code",
   "execution_count": 4,
   "id": "3d2051a8",
   "metadata": {},
   "outputs": [
    {
     "name": "stdout",
     "output_type": "stream",
     "text": [
      "Printing In Ascending Order Of The Network I.D.s:\n",
      "['192', '158', '40', '5']\n",
      "['192', '158', '40', '6']\n",
      "['192', '158', '40', '20']\n",
      "['192', '158', '40', '21']\n",
      "['192', '158', '40', '42']\n",
      "['192', '158', '40', '92']\n",
      "['192', '158', '40', '95']\n",
      "['192', '158', '40', '105']\n"
     ]
    }
   ],
   "source": [
    "#Program to sort all ip addresses based on the network id, that is, the last token\n",
    "\n",
    "\n",
    "#input_ip = input (\"Enter The IP Addresses Each Separated By A Space: \")\n",
    "input_ip = \"192.158.40.5 192.158.40.42 192.158.40.21 192.158.40.6 192.158.40.105 192.158.40.20 192.158.40.92 192.158.40.95\"\n",
    "\n",
    "#Creating A List Of IP Addresses\n",
    "iplist = input_ip.split()\n",
    "\n",
    "#Creating A List Of Individual List Of IP Tokens\n",
    "iplists = [i.split(\".\") for i in iplist]\n",
    "\n",
    "#Note: All elements in these lists are still strings. No effort is put to change them into int. Sorting is done via int in the function itself.\n",
    "\n",
    "#Returns The Last Token As Int For Sorting\n",
    "def lasttokenisint(x):\n",
    "\treturn int (x[-1])\n",
    "\n",
    "#Sorting With Last Token As Key\n",
    "iplists.sort(key = lasttokenisint)\n",
    "\n",
    "#Sorted Based On Last Token\n",
    "print(\"Printing In Ascending Order Of The Network I.D.s:\")\n",
    "for i in range(len(iplists)):\n",
    "\tprint(iplists[i])"
   ]
  },
  {
   "cell_type": "code",
   "execution_count": null,
   "id": "94dbb013",
   "metadata": {},
   "outputs": [],
   "source": []
  }
 ],
 "metadata": {
  "kernelspec": {
   "display_name": "Python 3 (ipykernel)",
   "language": "python",
   "name": "python3"
  },
  "language_info": {
   "codemirror_mode": {
    "name": "ipython",
    "version": 3
   },
   "file_extension": ".py",
   "mimetype": "text/x-python",
   "name": "python",
   "nbconvert_exporter": "python",
   "pygments_lexer": "ipython3",
   "version": "3.8.3"
  }
 },
 "nbformat": 4,
 "nbformat_minor": 5
}
