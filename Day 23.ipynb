{
 "cells": [
  {
   "cell_type": "code",
   "execution_count": 1,
   "id": "1d482e06",
   "metadata": {},
   "outputs": [
    {
     "name": "stdout",
     "output_type": "stream",
     "text": [
      "Done In 0.035362958908081055 seconds\n"
     ]
    }
   ],
   "source": [
    "from threading import Thread\n",
    "import os,pickle,time\n",
    "\n",
    "#---------------\n",
    "t1 = time.time()\n",
    "#---------------\n",
    "\n",
    "class finder:\n",
    "\t\n",
    "\tdict1 = {}\n",
    "\t#To Store All File Indexes\n",
    "\tdrive = [\"/storage/emulated/0/Python\"]\n",
    "\t#To Store All Drives/Folders To Traverse\n",
    "\t\n",
    "\t#Main Method To Traverse Through Dirs\n",
    "\t#Adding Files To dict1\n",
    "\tdef walker(path1):\n",
    "\t\t\n",
    "\t\tfor root,dirs,files in os.walk(path1):\n",
    "\t\t\tfor file in files:\n",
    "\t\t\t\tfinder.dict1.setdefault(file, []).append(root + \"/\" + file)\n",
    "\t\n",
    "\t#Creating Threads And With Each Thread,\n",
    "\t#Adding Files To dict1 Through walker\n",
    "\tdef indexer(path):\n",
    "\t\tfolders = list(os.walk(path))[0][1]\n",
    "\t\t#To Get The Dirs Present In This Drive\n",
    "\t\t#print(folders)\n",
    "\t\t\n",
    "\t\tthreads = []\n",
    "\t\t#Storing Threads To join() All At End\n",
    "\t\t#For Blocking Further Progress\n",
    "\t\t\n",
    "\t\t#Each Thread \"walk\"s Through Each Dir\n",
    "\t\tfor each in folders:\n",
    "\t\t\tdir = path + \"/\" + each\n",
    "\t\t\tth1 = Thread(target= finder.walker, args= (dir,))\n",
    "\t\t\tth1.start()\n",
    "\t\t\tthreads.append(th1)\n",
    "\t\t\n",
    "\t\t#Joining All Threads To Run Remaining\n",
    "\t\t#Part Of Program After Indexing Done\n",
    "\t\tfor th in threads:\n",
    "\t\t\tth.join()\n",
    "\t\n",
    "\t#Method To Add Drives Into Class Variable\n",
    "\t@classmethod\n",
    "\tdef add_drive(cls,drive):\n",
    "\t\tcls.drive.append(drive)\n",
    "\t\n",
    "\t#Method To Run All Necessary Functions\n",
    "\tdef main():\n",
    "\t\t#Indexing Through Each Drive\n",
    "\t\tfor path in finder.drive:\n",
    "\t\t\tfinder.indexer(path)\n",
    "\t\t\n",
    "\t\t#Storing All File Names With Indexes\n",
    "\t\t#As A Dict Into The The Given File\n",
    "\t\twith open(\"/storage/emulated/0/LetsUpgrade Python/Day 23 Assignment 1.pickle\", \"wb\") as f:\n",
    "\t\t\tpickle.dump(finder.dict1,f)\n",
    "\n",
    "\n",
    "#with open(\"/storage/emulated/0/LetsUpgrade Python/Day 23 Assignment 1.pickle\", \"rb\") as f:\n",
    "\t#dict2 = pickle.load(f)\n",
    "#print(len(dict2))\n",
    "\n",
    "##To Prevent Using main() After Import\n",
    "if __name__ == \"__main__\":\n",
    "\tfinder.add_drive(\"/storage/emulated/0/LetsUpgrade Python\")\n",
    "\tfinder.main()\n",
    "\t#---------------\n",
    "\tt2 = time.time()\n",
    "\t#---------------\n",
    "\tprint(\"Done In\",(t2-t1),\"seconds\")\n"
   ]
  },
  {
   "cell_type": "code",
   "execution_count": null,
   "id": "ed9fbe26",
   "metadata": {},
   "outputs": [],
   "source": []
  }
 ],
 "metadata": {
  "kernelspec": {
   "display_name": "Python 3 (ipykernel)",
   "language": "python",
   "name": "python3"
  },
  "language_info": {
   "codemirror_mode": {
    "name": "ipython",
    "version": 3
   },
   "file_extension": ".py",
   "mimetype": "text/x-python",
   "name": "python",
   "nbconvert_exporter": "python",
   "pygments_lexer": "ipython3",
   "version": "3.8.3"
  }
 },
 "nbformat": 4,
 "nbformat_minor": 5
}
