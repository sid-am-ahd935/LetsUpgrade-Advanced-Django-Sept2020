{
 "cells": [
  {
   "cell_type": "code",
   "execution_count": 1,
   "id": "9190fd8d",
   "metadata": {},
   "outputs": [
    {
     "name": "stdout",
     "output_type": "stream",
     "text": [
      "Counter({' ': 129, 'e': 75, 't': 69, 'a': 67, 's': 65, 'o': 45, 'l': 43, 'n': 42, 'i': 41, 'c': 33, 'h': 32, 'm': 21, 'd': 21, 'u': 21, 'r': 20, 'y': 17, 'b': 12, 'v': 11, 'p': 11, '\\n': 10, 'f': 10, ',': 9, '.': 6, 'w': 5, \"'\": 5, 'C': 3, 'g': 3, 'x': 3, 'T': 2, '-': 2, 'M': 2, '(': 2, ')': 2, 'k': 2, 'J': 1, 'P': 1, 'I': 1, 'j': 1, 'F': 1, 'B': 1, 'A': 1, ':': 1})\n",
      "\n",
      "\n",
      "\n",
      "MyCounter({' ': 129, 'e': 75, 't': 69, 'a': 67, 's': 65, 'o': 45, 'l': 43, 'n': 42, 'i': 41, 'c': 33, 'h': 32, 'm': 21, 'd': 21, 'u': 21, 'r': 20, 'y': 17, 'b': 12, 'v': 11, 'p': 11, '\\n': 10, 'f': 10, ',': 9, '.': 6, 'w': 5, \"'\": 5, 'C': 3, 'g': 3, 'x': 3, 'T': 2, '-': 2, 'M': 2, '(': 2, ')': 2, 'k': 2, 'J': 1, 'P': 1, 'I': 1, 'j': 1, 'F': 1, 'B': 1, 'A': 1, ':': 1})\n"
     ]
    }
   ],
   "source": [
    "from collections import Counter\n",
    "\n",
    "data = '''\n",
    "Class methods are for when you need to have methods that aren't specific to any particular instance, but still involve the class in some way. The most interesting thing about them is that they can be overridden by subclasses, something that's simply not possible in Java's static methods or Python's module-level functions.\n",
    "\n",
    "If you have a class MyClass, and a module-level function that operates on MyClass (factory, dependency injection stub, etc), make it a classmethod. Then it'll be available to subclasses.\n",
    "\n",
    "Factory methods (alternative constructors) are indeed a classic example of class methods.\n",
    "\n",
    "Basically, class methods are suitable anytime you would like to have a method which naturally fits into the namespace of the class, but is not associated with a particular instance of the class.\n",
    "\n",
    "As an example, in the excellent unipath module:\n",
    "'''\n",
    "\n",
    "class MyCounter(Counter):\n",
    "\tdef __call__(self,data):\n",
    "\t\tself.update(Counter(data))\n",
    "\t\t#self = Counter(data) \n",
    "\t\t#Creates New Value & Points self To It\n",
    "\t\t#But That Value Is Never Directly Sent\n",
    "\t\t#To The Creator Object\n",
    "\t\t#Hence By Updating self, Changes Are\n",
    "\t\t#Done In The Memory Address  Of Self \n",
    "\t\t#Itself Which Is The Same Memory As \n",
    "\t\t#New co1 Being Created\n",
    "\t\n",
    "#Original Counter Object\n",
    "a = Counter(data)\n",
    "print(a)\n",
    "print(\"\\n\\n\")\n",
    "\n",
    "#Custom Counter Object\n",
    "co1 = MyCounter()\n",
    "#As MyCounter() Is A Child Class Of Counter,\n",
    "#co1 Is An Object Of Counter\n",
    "\n",
    "#Passing Value/Data Into Object Using call()\n",
    "co1(data)\n",
    "\n",
    "#This Object Prints Exactly As Counter Object\n",
    "print((co1))"
   ]
  },
  {
   "cell_type": "code",
   "execution_count": null,
   "id": "0f526ea2",
   "metadata": {},
   "outputs": [],
   "source": []
  }
 ],
 "metadata": {
  "kernelspec": {
   "display_name": "Python 3 (ipykernel)",
   "language": "python",
   "name": "python3"
  },
  "language_info": {
   "codemirror_mode": {
    "name": "ipython",
    "version": 3
   },
   "file_extension": ".py",
   "mimetype": "text/x-python",
   "name": "python",
   "nbconvert_exporter": "python",
   "pygments_lexer": "ipython3",
   "version": "3.8.3"
  }
 },
 "nbformat": 4,
 "nbformat_minor": 5
}
