{
 "cells": [
  {
   "cell_type": "code",
   "execution_count": 1,
   "id": "b1223752",
   "metadata": {},
   "outputs": [
    {
     "name": "stdout",
     "output_type": "stream",
     "text": [
      "1) 10.50.120.7\n",
      "2) 10.47.8.4\n",
      "3) 11.5.4.3\n",
      "4) 172.16.55.13\n",
      "5) 172.16.254.3\n",
      "6) 172.55.54.74\n",
      "7) 0.0.0.0\n",
      "8) 127.0.0.0\n",
      "9) 169.254.0.0\n",
      "\n",
      "\n",
      "Total Lines: 18\n",
      "Total IPs Collected: 9\n",
      "Average IPs Per Line: 0.5\n"
     ]
    }
   ],
   "source": [
    "#Program To Store All IP Adresses From WebPage\n",
    "\n",
    "def ip_extractor(ip:'Regex',page : str)->None:\n",
    "\t\n",
    "\timport re\n",
    "\tfound_ip = re.finditer(ip,page)\n",
    "\t#All IPs Found In Page In One Iter Object\n",
    "\t\n",
    "\tc = 0 #For Counting All IP Addresses\n",
    "\tfor each in found_ip:\n",
    "\t\t#each=<ipMatchObject> From Iter Object\n",
    "\t\tc += 1\t\t\n",
    "\t\tprint(f\"{c})\",each.group())\n",
    "\t\t#Printing The IP Addresses\n",
    "\t\t\n",
    "\t#Extras:\n",
    "\tlines = page.count(\"\\n\")\n",
    "\tprint(\"\\n\\nTotal Lines:\",lines)\n",
    "\tprint(\"Total IPs Collected:\",c)\n",
    "\tprint(\"Average IPs Per Line:\",(c/lines))\n",
    "\n",
    "\n",
    "def main():\n",
    "\t\n",
    "\timport requests as req\n",
    "\turl = 'https://study-ccna.com/classes-of-ip-addresses//'\n",
    "\treq_ob = req.get(url)\n",
    "\tpage = req_ob.text\n",
    "\t#Extracting URL Data Into A String\n",
    "\t\n",
    "\tip1 = \"[0-9]+\\.[0-9]+\\.[0-9]+\\.[0-9]+\"\n",
    "\tip_extractor(ip1,page)\n",
    "\t#This RegEx Is The Basic Structure Of An IP\n",
    "\t#[0-9]+ : any no. of digits of integer > 0\n",
    "\t#\\.     : interpreted as 'ignore this dot'\n",
    "\t\n",
    "\t#ip2 = \"[0-9]+\\.[0-9]+\\.[0-9]+\"\n",
    "\t#ip3 = \"[0-9]+\\.[0-9]+\"\n",
    "\t#ip_extractor(ip2)\n",
    "\t#ip_extractor(ip3)\n",
    "\t\n",
    "\n",
    "\n",
    "if __name__ == \"__main__\":\n",
    "\tmain()"
   ]
  }
 ],
 "metadata": {
  "kernelspec": {
   "display_name": "Python 3 (ipykernel)",
   "language": "python",
   "name": "python3"
  },
  "language_info": {
   "codemirror_mode": {
    "name": "ipython",
    "version": 3
   },
   "file_extension": ".py",
   "mimetype": "text/x-python",
   "name": "python",
   "nbconvert_exporter": "python",
   "pygments_lexer": "ipython3",
   "version": "3.8.3"
  }
 },
 "nbformat": 4,
 "nbformat_minor": 5
}
